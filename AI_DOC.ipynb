{
  "nbformat": 4,
  "nbformat_minor": 0,
  "metadata": {
    "colab": {
      "provenance": [],
      "gpuType": "T4",
      "authorship_tag": "ABX9TyM1vgOO6j7ZGYuuT+v2rd+B",
      "include_colab_link": true
    },
    "kernelspec": {
      "name": "python3",
      "display_name": "Python 3"
    },
    "language_info": {
      "name": "python"
    },
    "accelerator": "GPU"
  },
  "cells": [
    {
      "cell_type": "markdown",
      "metadata": {
        "id": "view-in-github",
        "colab_type": "text"
      },
      "source": [
        "<a href=\"https://colab.research.google.com/github/aniruddh47/AI_DOCTOR/blob/main/AI_DOC.ipynb\" target=\"_parent\"><img src=\"https://colab.research.google.com/assets/colab-badge.svg\" alt=\"Open In Colab\"/></a>"
      ]
    },
    {
      "cell_type": "code",
      "source": [
        "import pandas as pd\n",
        "import numpy as np\n",
        "import tensorflow as tf\n",
        "from sklearn.model_selection import train_test_split\n",
        "from sklearn.preprocessing import LabelEncoder\n",
        "from tensorflow.keras.models import Sequential\n",
        "from tensorflow.keras.layers import Dense\n",
        "from tensorflow.keras.callbacks import EarlyStopping\n",
        "\n",
        "# 1. Load & clean data\n",
        "df = pd.read_csv(\"/content/Disease and symptoms dataset.csv\")\n",
        "df.columns = df.columns.str.strip().str.lower()\n",
        "df.fillna(0, inplace=True)\n",
        "\n",
        "# 2. Separate features and target\n",
        "X = df.drop(\"diseases\", axis=1)\n",
        "y = df[\"diseases\"]\n",
        "\n",
        "# 3. Encode target (diseases)\n",
        "encoder = LabelEncoder()\n",
        "y_encoded = encoder.fit_transform(y)\n",
        "\n",
        "# 4. Train-test split\n",
        "X_train, X_test, y_train, y_test = train_test_split(X, y_encoded, test_size=0.2, random_state=42)\n",
        "\n",
        "# 5. Build neural network\n",
        "model = Sequential([\n",
        "    Dense(128, activation='relu', input_shape=(X_train.shape[1],)),\n",
        "    Dense(64, activation='relu'),\n",
        "    Dense(len(np.unique(y_encoded)), activation='softmax')  # Output layer for multi-class\n",
        "])\n",
        "\n",
        "model.compile(optimizer='adam', loss='sparse_categorical_crossentropy', metrics=['accuracy'])\n",
        "\n",
        "# 6. Train with epochs & early stopping\n",
        "history = model.fit(\n",
        "    X_train, y_train,\n",
        "    epochs=30,\n",
        "    batch_size=32,\n",
        "    validation_split=0.1,\n",
        "    callbacks=[EarlyStopping(patience=3, restore_best_weights=True)],\n",
        "    verbose=1\n",
        ")\n",
        "\n",
        "# 7. Evaluate\n",
        "loss, accuracy = model.evaluate(X_test, y_test)\n",
        "print(f\"✅ Test Accuracy: {accuracy*100:.2f}%\")\n",
        "\n",
        "# 8. Save model and encoder\n",
        "model.save(\"neural_disease_model.h5\")\n",
        "import pickle\n",
        "with open(\"label_encoder.pkl\", \"wb\") as f:\n",
        "    pickle.dump(encoder, f)\n"
      ],
      "metadata": {
        "colab": {
          "base_uri": "https://localhost:8080/"
        },
        "id": "bWv9ORw6YkgU",
        "outputId": "f731c647-94ce-4f87-8f02-4475c10447ad"
      },
      "execution_count": 1,
      "outputs": [
        {
          "output_type": "stream",
          "name": "stdout",
          "text": [
            "Epoch 1/30\n",
            "\u001b[1m5557/5557\u001b[0m \u001b[32m━━━━━━━━━━━━━━━━━━━━\u001b[0m\u001b[37m\u001b[0m \u001b[1m20s\u001b[0m 3ms/step - accuracy: 0.5831 - loss: 2.1187 - val_accuracy: 0.8353 - val_loss: 0.4813\n",
            "Epoch 2/30\n",
            "\u001b[1m5557/5557\u001b[0m \u001b[32m━━━━━━━━━━━━━━━━━━━━\u001b[0m\u001b[37m\u001b[0m \u001b[1m16s\u001b[0m 3ms/step - accuracy: 0.8421 - loss: 0.4497 - val_accuracy: 0.8452 - val_loss: 0.4327\n",
            "Epoch 3/30\n",
            "\u001b[1m5557/5557\u001b[0m \u001b[32m━━━━━━━━━━━━━━━━━━━━\u001b[0m\u001b[37m\u001b[0m \u001b[1m16s\u001b[0m 3ms/step - accuracy: 0.8509 - loss: 0.4070 - val_accuracy: 0.8481 - val_loss: 0.4101\n",
            "Epoch 4/30\n",
            "\u001b[1m5557/5557\u001b[0m \u001b[32m━━━━━━━━━━━━━━━━━━━━\u001b[0m\u001b[37m\u001b[0m \u001b[1m20s\u001b[0m 3ms/step - accuracy: 0.8545 - loss: 0.3869 - val_accuracy: 0.8485 - val_loss: 0.4037\n",
            "Epoch 5/30\n",
            "\u001b[1m5557/5557\u001b[0m \u001b[32m━━━━━━━━━━━━━━━━━━━━\u001b[0m\u001b[37m\u001b[0m \u001b[1m15s\u001b[0m 3ms/step - accuracy: 0.8581 - loss: 0.3725 - val_accuracy: 0.8479 - val_loss: 0.4035\n",
            "Epoch 6/30\n",
            "\u001b[1m5557/5557\u001b[0m \u001b[32m━━━━━━━━━━━━━━━━━━━━\u001b[0m\u001b[37m\u001b[0m \u001b[1m16s\u001b[0m 3ms/step - accuracy: 0.8609 - loss: 0.3616 - val_accuracy: 0.8513 - val_loss: 0.4024\n",
            "Epoch 7/30\n",
            "\u001b[1m5557/5557\u001b[0m \u001b[32m━━━━━━━━━━━━━━━━━━━━\u001b[0m\u001b[37m\u001b[0m \u001b[1m20s\u001b[0m 3ms/step - accuracy: 0.8633 - loss: 0.3517 - val_accuracy: 0.8454 - val_loss: 0.4033\n",
            "Epoch 8/30\n",
            "\u001b[1m5557/5557\u001b[0m \u001b[32m━━━━━━━━━━━━━━━━━━━━\u001b[0m\u001b[37m\u001b[0m \u001b[1m21s\u001b[0m 3ms/step - accuracy: 0.8653 - loss: 0.3440 - val_accuracy: 0.8482 - val_loss: 0.4017\n",
            "Epoch 9/30\n",
            "\u001b[1m5557/5557\u001b[0m \u001b[32m━━━━━━━━━━━━━━━━━━━━\u001b[0m\u001b[37m\u001b[0m \u001b[1m16s\u001b[0m 3ms/step - accuracy: 0.8662 - loss: 0.3413 - val_accuracy: 0.8495 - val_loss: 0.4035\n",
            "Epoch 10/30\n",
            "\u001b[1m5557/5557\u001b[0m \u001b[32m━━━━━━━━━━━━━━━━━━━━\u001b[0m\u001b[37m\u001b[0m \u001b[1m21s\u001b[0m 3ms/step - accuracy: 0.8703 - loss: 0.3309 - val_accuracy: 0.8490 - val_loss: 0.3980\n",
            "Epoch 11/30\n",
            "\u001b[1m5557/5557\u001b[0m \u001b[32m━━━━━━━━━━━━━━━━━━━━\u001b[0m\u001b[37m\u001b[0m \u001b[1m20s\u001b[0m 3ms/step - accuracy: 0.8692 - loss: 0.3306 - val_accuracy: 0.8457 - val_loss: 0.4062\n",
            "Epoch 12/30\n",
            "\u001b[1m5557/5557\u001b[0m \u001b[32m━━━━━━━━━━━━━━━━━━━━\u001b[0m\u001b[37m\u001b[0m \u001b[1m17s\u001b[0m 3ms/step - accuracy: 0.8706 - loss: 0.3271 - val_accuracy: 0.8474 - val_loss: 0.4071\n",
            "Epoch 13/30\n",
            "\u001b[1m5557/5557\u001b[0m \u001b[32m━━━━━━━━━━━━━━━━━━━━\u001b[0m\u001b[37m\u001b[0m \u001b[1m20s\u001b[0m 3ms/step - accuracy: 0.8720 - loss: 0.3192 - val_accuracy: 0.8509 - val_loss: 0.3978\n",
            "Epoch 14/30\n",
            "\u001b[1m5557/5557\u001b[0m \u001b[32m━━━━━━━━━━━━━━━━━━━━\u001b[0m\u001b[37m\u001b[0m \u001b[1m16s\u001b[0m 3ms/step - accuracy: 0.8723 - loss: 0.3189 - val_accuracy: 0.8477 - val_loss: 0.4044\n",
            "Epoch 15/30\n",
            "\u001b[1m5557/5557\u001b[0m \u001b[32m━━━━━━━━━━━━━━━━━━━━\u001b[0m\u001b[37m\u001b[0m \u001b[1m21s\u001b[0m 3ms/step - accuracy: 0.8740 - loss: 0.3166 - val_accuracy: 0.8496 - val_loss: 0.4104\n",
            "Epoch 16/30\n",
            "\u001b[1m5557/5557\u001b[0m \u001b[32m━━━━━━━━━━━━━━━━━━━━\u001b[0m\u001b[37m\u001b[0m \u001b[1m16s\u001b[0m 3ms/step - accuracy: 0.8750 - loss: 0.3124 - val_accuracy: 0.8472 - val_loss: 0.4108\n",
            "\u001b[1m1544/1544\u001b[0m \u001b[32m━━━━━━━━━━━━━━━━━━━━\u001b[0m\u001b[37m\u001b[0m \u001b[1m4s\u001b[0m 2ms/step - accuracy: 0.8524 - loss: 0.3935\n"
          ]
        },
        {
          "output_type": "stream",
          "name": "stderr",
          "text": [
            "WARNING:absl:You are saving your model as an HDF5 file via `model.save()` or `keras.saving.save_model(model)`. This file format is considered legacy. We recommend using instead the native Keras format, e.g. `model.save('my_model.keras')` or `keras.saving.save_model(model, 'my_model.keras')`. \n"
          ]
        },
        {
          "output_type": "stream",
          "name": "stdout",
          "text": [
            "✅ Test Accuracy: 85.08%\n"
          ]
        }
      ]
    },
    {
      "cell_type": "code",
      "source": [
        "model.save(\"disease_model.keras\")\n"
      ],
      "metadata": {
        "id": "oppU0gorYmT0"
      },
      "execution_count": 2,
      "outputs": []
    },
    {
      "cell_type": "code",
      "source": [
        "import pickle\n",
        "\n",
        "with open(\"label_encoder.pkl\", \"wb\") as f:\n",
        "    pickle.dump(encoder, f)\n"
      ],
      "metadata": {
        "id": "-ELhKhoCcpr7"
      },
      "execution_count": 3,
      "outputs": []
    },
    {
      "cell_type": "code",
      "source": [
        "model.save(\"disease_model.keras\")\n",
        "with open(\"label_encoder.pkl\", \"wb\") as f:\n",
        "    pickle.dump(encoder, f)\n"
      ],
      "metadata": {
        "id": "29THy2Dycuet"
      },
      "execution_count": 4,
      "outputs": []
    },
    {
      "cell_type": "code",
      "source": [],
      "metadata": {
        "id": "V43liDV1dynk"
      },
      "execution_count": null,
      "outputs": []
    }
  ]
}