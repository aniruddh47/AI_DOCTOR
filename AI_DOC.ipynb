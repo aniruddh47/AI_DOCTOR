{
  "cells": [
    {
      "cell_type": "code",
      "source": [
        "#install required packages\n",
        "!pip install groq pandas scikit-learn tensorflow streamlit --quiet"
      ],
      "metadata": {
        "colab": {
          "base_uri": "https://localhost:8080/"
        },
        "id": "xvCw9Zqch1O-",
        "outputId": "77a42aab-4f94-4919-a772-0d82a0ae3cfe"
      },
      "execution_count": 31,
      "outputs": [
        {
          "output_type": "stream",
          "name": "stdout",
          "text": [
            "\u001b[2K     \u001b[90m━━━━━━━━━━━━━━━━━━━━━━━━━━━━━━━━━━━━━━━━\u001b[0m \u001b[32m44.3/44.3 kB\u001b[0m \u001b[31m2.5 MB/s\u001b[0m eta \u001b[36m0:00:00\u001b[0m\n",
            "\u001b[2K   \u001b[90m━━━━━━━━━━━━━━━━━━━━━━━━━━━━━━━━━━━━━━━━\u001b[0m \u001b[32m9.9/9.9 MB\u001b[0m \u001b[31m92.4 MB/s\u001b[0m eta \u001b[36m0:00:00\u001b[0m\n",
            "\u001b[2K   \u001b[90m━━━━━━━━━━━━━━━━━━━━━━━━━━━━━━━━━━━━━━━━\u001b[0m \u001b[32m6.9/6.9 MB\u001b[0m \u001b[31m123.4 MB/s\u001b[0m eta \u001b[36m0:00:00\u001b[0m\n",
            "\u001b[2K   \u001b[90m━━━━━━━━━━━━━━━━━━━━━━━━━━━━━━━━━━━━━━━━\u001b[0m \u001b[32m79.1/79.1 kB\u001b[0m \u001b[31m7.8 MB/s\u001b[0m eta \u001b[36m0:00:00\u001b[0m\n",
            "\u001b[?25h"
          ]
        }
      ]
    },
    {
      "cell_type": "code",
      "source": [
        "# ========== 1. IMPORTS ==========\n",
        "import numpy as np\n",
        "import pandas as pd\n",
        "from tensorflow.keras.models import load_model\n",
        "import pickle\n",
        "from groq import Groq\n",
        "import datetime"
      ],
      "metadata": {
        "id": "mIac6YB8h5MO"
      },
      "execution_count": 33,
      "outputs": []
    },
    {
      "cell_type": "code",
      "source": [
        "GROQ_API_KEY = \"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\"  # 🔁 Replace with your actual key\n",
        "client = Groq(api_key=GROQ_API_KEY)"
      ],
      "metadata": {
        "id": "ccvwAWLzh-16"
      },
      "execution_count": 34,
      "outputs": []
    },
    {
      "cell_type": "code",
      "source": [
        "# ========== 3. Symptom Columns ==========\n",
        "symptom_columns = [\n",
        "    \"fever\", \"cough\", \"shortness of breath\", \"fatigue\", \"chest pain\", \"headache\",\n",
        "    \"vomiting\", \"diarrhea\", \"joint pain\", \"muscle pain\", \"anxiety\", \"nausea\",\n",
        "    \"sore throat\", \"rash\", \"sweating\", \"loss of appetite\", \"insomnia\", \"runny nose\",\n",
        "    \"dizziness\", \"abdominal pain\", \"weight loss\", \"congestion\", \"blurred vision\",\n",
        "    \"palpitations\", \"dry mouth\", \"tingling\", \"loss of smell\", \"loss of taste\",\n",
        "    \"skin irritation\", \"cold hands and feet\", \"irritability\", \"bloating\",\n",
        "    \"trouble concentrating\", \"back pain\", \"eye redness\", \"ear pain\", \"lightheadedness\",\n",
        "    \"increased thirst\", \"excessive urination\", \"difficulty swallowing\",\n",
        "    \"itchy eyes\", \"night sweats\", \"hoarseness\", \"neck stiffness\", \"swollen glands\",\n",
        "    \"frequent urination\", \"excessive hunger\", \"sensitivity to light\"\n",
        "]"
      ],
      "metadata": {
        "id": "Wqte7x5ViXp5"
      },
      "execution_count": 35,
      "outputs": []
    },
    {
      "cell_type": "code",
      "source": [
        "# ========== 4. GROQ Functions ==========\n",
        "def extract_symptoms_with_groq(user_input):\n",
        "    prompt = f\"\"\"\n",
        "You are a medical assistant.\n",
        "Extract symptoms from the user's message below. Only return symptoms from this list:\n",
        "{', '.join(symptom_columns)}\n",
        "\n",
        "User: {user_input}\n",
        "List the symptoms as an array in Python format, e.g. [\"cough\", \"fever\"]\n",
        "\"\"\"\n",
        "    res = client.chat.completions.create(\n",
        "        model=\"llama3-8b-8192\",\n",
        "        messages=[\n",
        "            {\"role\": \"system\", \"content\": \"You are a medical assistant that only returns valid symptoms.\"},\n",
        "            {\"role\": \"user\", \"content\": prompt}\n",
        "        ]\n",
        "    )\n",
        "    try:\n",
        "        return eval(res.choices[0].message.content.strip())\n",
        "    except:\n",
        "        return []\n",
        "\n",
        "def get_diagnosis_and_treatment(user_input):\n",
        "    prompt = f\"\"\"\n",
        "You are a smart AI medical assistant. A user described their symptoms like this:\n",
        "\"{user_input}\"\n",
        "\n",
        "1. Identify likely disease from the description.\n",
        "2. Provide a friendly 2-3 line treatment/advice.\n",
        "Do not suggest to consult a doctor unless it's critical. Be concise and helpful.\n",
        "Format:\n",
        "Disease: <name>\n",
        "Advice: <short paragraph>\n",
        "\"\"\"\n",
        "    res = client.chat.completions.create(\n",
        "        model=\"llama3-8b-8192\",\n",
        "        messages=[\n",
        "            {\"role\": \"user\", \"content\": prompt}\n",
        "        ]\n",
        "    )\n",
        "    return res.choices[0].message.content.strip()\n"
      ],
      "metadata": {
        "id": "uAOdiLnciYFp"
      },
      "execution_count": 36,
      "outputs": []
    },
    {
      "cell_type": "code",
      "source": [
        "# ========== 5. Session Log ==========\n",
        "def log_session(user_input, detected_symptoms, result_text):\n",
        "    data = {\n",
        "        \"timestamp\": [datetime.datetime.now().isoformat()],\n",
        "        \"user_input\": [user_input],\n",
        "        \"symptoms\": [\"; \".join(detected_symptoms)],\n",
        "        \"result\": [result_text]\n",
        "    }\n",
        "    df = pd.DataFrame(data)\n",
        "    df.to_csv(\"session_logs.csv\", mode=\"a\", header=False, index=False)\n"
      ],
      "metadata": {
        "id": "KK4DlmV_iguD"
      },
      "execution_count": 37,
      "outputs": []
    },
    {
      "cell_type": "code",
      "source": [
        "# ========== 6. MAIN APP ==========\n",
        "print(\"📝 Please describe your symptoms in one or two sentences:\")\n",
        "user_input = input(\"Your description: \")\n",
        "\n",
        "# Step 1: Extract symptoms\n",
        "found_symptoms = extract_symptoms_with_groq(user_input)\n",
        "print(\"🔍 Detected Symptoms:\", found_symptoms)\n",
        "\n",
        "# Step 2: Diagnose and treat using LLM only\n",
        "result = get_diagnosis_and_treatment(user_input)\n",
        "print(\"\\n🤖 Diagnosis and Advice:\\n\", result)\n",
        "\n",
        "# Step 3: Save session\n",
        "log_session(user_input, found_symptoms, result)\n",
        "print(\"🗂️ Session saved to log file.\")\n"
      ],
      "metadata": {
        "colab": {
          "base_uri": "https://localhost:8080/"
        },
        "id": "PwY4Od46nUCR",
        "outputId": "92427eb8-fa60-4cf8-f94d-7d4f188893fe"
      },
      "execution_count": 46,
      "outputs": [
        {
          "output_type": "stream",
          "name": "stdout",
          "text": [
            "📝 Please describe your symptoms in one or two sentences:\n",
            "Your description: synuse\n",
            "🔍 Detected Symptoms: []\n",
            "\n",
            "🤖 Diagnosis and Advice:\n",
            " Based on the symptom \"synuse\", I'm interpreting it as \"sinus\".\n",
            "\n",
            "Disease: Sinusitis\n",
            "\n",
            "Advice: You're likely experiencing sinusitis, an inflammation or infection of the sinus cavities. Try taking a warm compress over your face to loosen up mucus and ease pressure. You can also use a humidifier to add moisture to the air and reduce congestion. Over-the-counter pain relievers like acetaminophen or ibuprofen can also help alleviate symptoms.\n",
            "🗂️ Session saved to log file.\n"
          ]
        }
      ]
    },
    {
      "cell_type": "code",
      "source": [],
      "metadata": {
        "id": "srQYwR7dqPIx"
      },
      "execution_count": null,
      "outputs": []
    }
  ],
  "metadata": {
    "accelerator": "GPU",
    "colab": {
      "gpuType": "T4",
      "provenance": []
    },
    "kernelspec": {
      "display_name": "Python 3",
      "name": "python3"
    },
    "language_info": {
      "name": "python"
    }
  },
  "nbformat": 4,
  "nbformat_minor": 0
}